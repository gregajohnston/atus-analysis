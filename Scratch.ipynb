{
 "cells": [
  {
   "cell_type": "code",
   "execution_count": 1,
   "metadata": {
    "collapsed": false
   },
   "outputs": [],
   "source": [
    "import pandas as pd\n",
    "import numpy as np\n",
    "import matplotlib as plt\n",
    "import seaborn\n",
    "from pandas import DataFrame, Series\n",
    "%matplotlib inline"
   ]
  },
  {
   "cell_type": "code",
   "execution_count": 2,
   "metadata": {
    "collapsed": false
   },
   "outputs": [],
   "source": [
    "df_sum = pd.read_csv('atus_analysis/atussum_2014.dat', header=0)\n",
    "df_rep = pd.read_csv('atus_analysis/atusresp_2014.dat', header=0)\n",
    "df_sum = df_sum.rename(columns = {'tucaseid':'TUCASEID'})"
   ]
  },
  {
   "cell_type": "code",
   "execution_count": 3,
   "metadata": {
    "collapsed": false
   },
   "outputs": [
    {
     "data": {
      "text/html": [
       "<div>\n",
       "<table border=\"1\" class=\"dataframe\">\n",
       "  <thead>\n",
       "    <tr style=\"text-align: right;\">\n",
       "      <th></th>\n",
       "      <th>TUCASEID</th>\n",
       "      <th>TUFINLWGT</th>\n",
       "      <th>TRYHHCHILD</th>\n",
       "      <th>TEAGE</th>\n",
       "      <th>TESEX</th>\n",
       "      <th>PEEDUCA</th>\n",
       "      <th>PTDTRACE</th>\n",
       "      <th>PEHSPNON</th>\n",
       "      <th>GTMETSTA</th>\n",
       "      <th>TELFS</th>\n",
       "      <th>...</th>\n",
       "      <th>t181601</th>\n",
       "      <th>t181699</th>\n",
       "      <th>t181801</th>\n",
       "      <th>t181899</th>\n",
       "      <th>t189999</th>\n",
       "      <th>t500101</th>\n",
       "      <th>t500103</th>\n",
       "      <th>t500105</th>\n",
       "      <th>t500106</th>\n",
       "      <th>t500107</th>\n",
       "    </tr>\n",
       "  </thead>\n",
       "  <tbody>\n",
       "    <tr>\n",
       "      <th>0</th>\n",
       "      <td>20140101140007</td>\n",
       "      <td>4.891316e+06</td>\n",
       "      <td>0</td>\n",
       "      <td>20</td>\n",
       "      <td>2</td>\n",
       "      <td>39</td>\n",
       "      <td>1</td>\n",
       "      <td>1</td>\n",
       "      <td>1</td>\n",
       "      <td>4</td>\n",
       "      <td>...</td>\n",
       "      <td>0</td>\n",
       "      <td>0</td>\n",
       "      <td>0</td>\n",
       "      <td>0</td>\n",
       "      <td>0</td>\n",
       "      <td>0</td>\n",
       "      <td>0</td>\n",
       "      <td>0</td>\n",
       "      <td>0</td>\n",
       "      <td>0</td>\n",
       "    </tr>\n",
       "    <tr>\n",
       "      <th>1</th>\n",
       "      <td>20140101140011</td>\n",
       "      <td>2.314737e+07</td>\n",
       "      <td>16</td>\n",
       "      <td>16</td>\n",
       "      <td>2</td>\n",
       "      <td>37</td>\n",
       "      <td>2</td>\n",
       "      <td>2</td>\n",
       "      <td>1</td>\n",
       "      <td>1</td>\n",
       "      <td>...</td>\n",
       "      <td>0</td>\n",
       "      <td>0</td>\n",
       "      <td>0</td>\n",
       "      <td>0</td>\n",
       "      <td>0</td>\n",
       "      <td>0</td>\n",
       "      <td>0</td>\n",
       "      <td>0</td>\n",
       "      <td>0</td>\n",
       "      <td>0</td>\n",
       "    </tr>\n",
       "    <tr>\n",
       "      <th>2</th>\n",
       "      <td>20140101140028</td>\n",
       "      <td>2.094182e+07</td>\n",
       "      <td>2</td>\n",
       "      <td>65</td>\n",
       "      <td>2</td>\n",
       "      <td>38</td>\n",
       "      <td>1</td>\n",
       "      <td>1</td>\n",
       "      <td>1</td>\n",
       "      <td>5</td>\n",
       "      <td>...</td>\n",
       "      <td>0</td>\n",
       "      <td>0</td>\n",
       "      <td>0</td>\n",
       "      <td>0</td>\n",
       "      <td>0</td>\n",
       "      <td>0</td>\n",
       "      <td>0</td>\n",
       "      <td>0</td>\n",
       "      <td>0</td>\n",
       "      <td>0</td>\n",
       "    </tr>\n",
       "  </tbody>\n",
       "</table>\n",
       "<p>3 rows × 409 columns</p>\n",
       "</div>"
      ],
      "text/plain": [
       "         TUCASEID     TUFINLWGT  TRYHHCHILD  TEAGE  TESEX  PEEDUCA  PTDTRACE  \\\n",
       "0  20140101140007  4.891316e+06           0     20      2       39         1   \n",
       "1  20140101140011  2.314737e+07          16     16      2       37         2   \n",
       "2  20140101140028  2.094182e+07           2     65      2       38         1   \n",
       "\n",
       "   PEHSPNON  GTMETSTA  TELFS   ...     t181601  t181699  t181801  t181899  \\\n",
       "0         1         1      4   ...           0        0        0        0   \n",
       "1         2         1      1   ...           0        0        0        0   \n",
       "2         1         1      5   ...           0        0        0        0   \n",
       "\n",
       "   t189999  t500101  t500103  t500105  t500106  t500107  \n",
       "0        0        0        0        0        0        0  \n",
       "1        0        0        0        0        0        0  \n",
       "2        0        0        0        0        0        0  \n",
       "\n",
       "[3 rows x 409 columns]"
      ]
     },
     "execution_count": 3,
     "metadata": {},
     "output_type": "execute_result"
    }
   ],
   "source": [
    "df_sum.head(3)"
   ]
  },
  {
   "cell_type": "code",
   "execution_count": 4,
   "metadata": {
    "collapsed": false
   },
   "outputs": [],
   "source": [
    "df = pd.merge(df_sum, df_rep, on='TUCASEID')"
   ]
  },
  {
   "cell_type": "code",
   "execution_count": 5,
   "metadata": {
    "collapsed": false
   },
   "outputs": [],
   "source": [
    "test = df[['TESEX' ,'TRTCCTOT', 'TRTO']]"
   ]
  },
  {
   "cell_type": "code",
   "execution_count": 6,
   "metadata": {
    "collapsed": false
   },
   "outputs": [
    {
     "data": {
      "text/html": [
       "<div>\n",
       "<table border=\"1\" class=\"dataframe\">\n",
       "  <thead>\n",
       "    <tr style=\"text-align: right;\">\n",
       "      <th></th>\n",
       "      <th>TESEX</th>\n",
       "      <th>TRTCCTOT</th>\n",
       "      <th>TRTO</th>\n",
       "    </tr>\n",
       "  </thead>\n",
       "  <tbody>\n",
       "    <tr>\n",
       "      <th>TESEX</th>\n",
       "      <td>1.000000</td>\n",
       "      <td>0.101580</td>\n",
       "      <td>0.088346</td>\n",
       "    </tr>\n",
       "    <tr>\n",
       "      <th>TRTCCTOT</th>\n",
       "      <td>0.101580</td>\n",
       "      <td>1.000000</td>\n",
       "      <td>0.926599</td>\n",
       "    </tr>\n",
       "    <tr>\n",
       "      <th>TRTO</th>\n",
       "      <td>0.088346</td>\n",
       "      <td>0.926599</td>\n",
       "      <td>1.000000</td>\n",
       "    </tr>\n",
       "  </tbody>\n",
       "</table>\n",
       "</div>"
      ],
      "text/plain": [
       "             TESEX  TRTCCTOT      TRTO\n",
       "TESEX     1.000000  0.101580  0.088346\n",
       "TRTCCTOT  0.101580  1.000000  0.926599\n",
       "TRTO      0.088346  0.926599  1.000000"
      ]
     },
     "execution_count": 6,
     "metadata": {},
     "output_type": "execute_result"
    }
   ],
   "source": [
    "test.corr()"
   ]
  },
  {
   "cell_type": "code",
   "execution_count": 7,
   "metadata": {
    "collapsed": false
   },
   "outputs": [],
   "source": [
    "# df['t010101'].head(10)\n",
    "# CaringHH = df[['t030101', 't030102', 't030103', 't030104', 't030105', 't030106', 't030108', 't030109', 't030110', 't030111', 't030112', 't030199', 't030201', 't030202', 't030203', 't030299', 't030301', 't030302', 't030303', 't030399', 't030401', 't030402', 't030403', 't030404', 't030405', 't030499', 't030501', 't030502', 't030503', 't030504', 't030599', 't039999']]\n",
    "# CaringHH.sum(axis=1).head(5)\n",
    "# df['TRTHH'].head(5)\n",
    "# df['TELFS'].head(5)"
   ]
  },
  {
   "cell_type": "code",
   "execution_count": 11,
   "metadata": {
    "collapsed": false
   },
   "outputs": [
    {
     "data": {
      "text/plain": [
       "TRDTOCC1\n",
       "-1     56.144924\n",
       " 1     46.828471\n",
       " 2     45.716080\n",
       " 3     41.173729\n",
       " 4     42.530612\n",
       " 5     43.395062\n",
       " 6     44.250000\n",
       " 7     45.205882\n",
       " 8     43.866920\n",
       " 9     45.866242\n",
       " 10    42.570388\n",
       " 11    41.906250\n",
       " 12    42.313953\n",
       " 13    35.700000\n",
       " 14    47.228571\n",
       " 15    41.222222\n",
       " 16    42.674809\n",
       " 17    45.038929\n",
       " 18    40.615385\n",
       " 19    41.607383\n",
       " 20    43.796209\n",
       " 21    46.025714\n",
       " 22    44.824289\n",
       "Name: TEAGE, dtype: float64"
      ]
     },
     "execution_count": 11,
     "metadata": {},
     "output_type": "execute_result"
    }
   ],
   "source": [
    "test2 = df[['TEAGE', 'TRDTOCC1']]\n",
    "df['TEAGE'].groupby(df['TRDTOCC1']).mean()"
   ]
  },
  {
   "cell_type": "code",
   "execution_count": 12,
   "metadata": {
    "collapsed": false
   },
   "outputs": [
    {
     "data": {
      "text/plain": [
       "TRDTOCC1       \n",
       "-1        count    4630.000000\n",
       "          mean       56.144924\n",
       "          std        20.743044\n",
       "          min        15.000000\n",
       "          25%        40.000000\n",
       "          50%        62.000000\n",
       "          75%        73.000000\n",
       "          max        85.000000\n",
       " 1        count     857.000000\n",
       "          mean       46.828471\n",
       "          std        12.589019\n",
       "          min        16.000000\n",
       "          25%        37.000000\n",
       "          50%        46.000000\n",
       "          75%        55.000000\n",
       "          max        85.000000\n",
       " 2        count     398.000000\n",
       "          mean       45.716080\n",
       "          std        12.713756\n",
       "          min        16.000000\n",
       "          25%        35.000000\n",
       "          50%        45.000000\n",
       "          75%        55.750000\n",
       "          max        80.000000\n",
       " 3        count     236.000000\n",
       "          mean       41.173729\n",
       "          std        10.869414\n",
       "          min        20.000000\n",
       "          25%        33.000000\n",
       "          50%        40.000000\n",
       "                      ...     \n",
       " 19       std        12.110471\n",
       "          min        15.000000\n",
       "          25%        33.000000\n",
       "          50%        41.000000\n",
       "          75%        51.000000\n",
       "          max        73.000000\n",
       " 20       count     211.000000\n",
       "          mean       43.796209\n",
       "          std        11.798756\n",
       "          min        17.000000\n",
       "          25%        35.000000\n",
       "          50%        46.000000\n",
       "          75%        53.000000\n",
       "          max        70.000000\n",
       " 21       count     350.000000\n",
       "          mean       46.025714\n",
       "          std        13.068562\n",
       "          min        15.000000\n",
       "          25%        36.000000\n",
       "          50%        46.000000\n",
       "          75%        56.000000\n",
       "          max        79.000000\n",
       " 22       count     387.000000\n",
       "          mean       44.824289\n",
       "          std        13.395736\n",
       "          min        15.000000\n",
       "          25%        33.500000\n",
       "          50%        47.000000\n",
       "          75%        54.500000\n",
       "          max        80.000000\n",
       "dtype: float64"
      ]
     },
     "execution_count": 12,
     "metadata": {},
     "output_type": "execute_result"
    }
   ],
   "source": [
    "df['TEAGE'].groupby(df['TRDTOCC1']).describe()"
   ]
  },
  {
   "cell_type": "code",
   "execution_count": 13,
   "metadata": {
    "collapsed": false
   },
   "outputs": [
    {
     "data": {
      "text/plain": [
       "<matplotlib.axes._subplots.AxesSubplot at 0x109c0fc88>"
      ]
     },
     "execution_count": 13,
     "metadata": {},
     "output_type": "execute_result"
    },
    {
     "data": {
      "image/png": "[encoded data removed]",
      "text/plain": [
       "<matplotlib.figure.Figure at 0x1097d9cc0>"
      ]
     },
     "metadata": {},
     "output_type": "display_data"
    }
   ],
   "source": [
    "# df['TEAGE'].boxplot(by=df['TRDTOCC1'])\n",
    "test2.boxplot(by='TRDTOCC1')"
   ]
  },
  {
   "cell_type": "code",
   "execution_count": null,
   "metadata": {
    "collapsed": true
   },
   "outputs": [],
   "source": []
  }
 ],
 "metadata": {
  "kernelspec": {
   "display_name": "Python 3",
   "language": "python",
   "name": "python3"
  },
  "language_info": {
   "codemirror_mode": {
    "name": "ipython",
    "version": 3
   },
   "file_extension": ".py",
   "mimetype": "text/x-python",
   "name": "python",
   "nbconvert_exporter": "python",
   "pygments_lexer": "ipython3",
   "version": "3.5.1"
  }
 },
 "nbformat": 4,
 "nbformat_minor": 0
}
